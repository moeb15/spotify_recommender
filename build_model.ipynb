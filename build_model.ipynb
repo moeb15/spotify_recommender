{
 "cells": [
  {
   "attachments": {},
   "cell_type": "markdown",
   "metadata": {},
   "source": [
    "### In this notebook we go through the process of training our model"
   ]
  },
  {
   "attachments": {},
   "cell_type": "markdown",
   "metadata": {},
   "source": [
    "We'll start by loading our data and encoding our categorical variables,  \n",
    "since in our EDA process we saw that our data contains many unique values,  \n",
    "it's best to use label encoding over one-hot encoding"
   ]
  },
  {
   "cell_type": "code",
   "execution_count": 1,
   "metadata": {},
   "outputs": [
    {
     "data": {
      "text/html": [
       "<div>\n",
       "<style scoped>\n",
       "    .dataframe tbody tr th:only-of-type {\n",
       "        vertical-align: middle;\n",
       "    }\n",
       "\n",
       "    .dataframe tbody tr th {\n",
       "        vertical-align: top;\n",
       "    }\n",
       "\n",
       "    .dataframe thead th {\n",
       "        text-align: right;\n",
       "    }\n",
       "</style>\n",
       "<table border=\"1\" class=\"dataframe\">\n",
       "  <thead>\n",
       "    <tr style=\"text-align: right;\">\n",
       "      <th></th>\n",
       "      <th>Artist</th>\n",
       "      <th>Subgenre</th>\n",
       "    </tr>\n",
       "  </thead>\n",
       "  <tbody>\n",
       "    <tr>\n",
       "      <th>0</th>\n",
       "      <td>Jason Mraz</td>\n",
       "      <td>acoustic pop</td>\n",
       "    </tr>\n",
       "    <tr>\n",
       "      <th>1</th>\n",
       "      <td>Jason Mraz</td>\n",
       "      <td>dance pop</td>\n",
       "    </tr>\n",
       "    <tr>\n",
       "      <th>2</th>\n",
       "      <td>Jason Mraz</td>\n",
       "      <td>neo mellow</td>\n",
       "    </tr>\n",
       "    <tr>\n",
       "      <th>3</th>\n",
       "      <td>Jason Mraz</td>\n",
       "      <td>pop</td>\n",
       "    </tr>\n",
       "    <tr>\n",
       "      <th>4</th>\n",
       "      <td>The Paper Kites</td>\n",
       "      <td>acoustic pop</td>\n",
       "    </tr>\n",
       "  </tbody>\n",
       "</table>\n",
       "</div>"
      ],
      "text/plain": [
       "            Artist      Subgenre\n",
       "0       Jason Mraz  acoustic pop\n",
       "1       Jason Mraz     dance pop\n",
       "2       Jason Mraz    neo mellow\n",
       "3       Jason Mraz           pop\n",
       "4  The Paper Kites  acoustic pop"
      ]
     },
     "execution_count": 1,
     "metadata": {},
     "output_type": "execute_result"
    }
   ],
   "source": [
    "import pandas as pd\n",
    "import numpy as np\n",
    "import seaborn as sns\n",
    "#from sklearn.preprocessing import LabelEncoder\n",
    "\n",
    "#artist_enc = LabelEncoder()\n",
    "#genre_enc = LabelEncoder()\n",
    "\n",
    "ag_df = pd.read_csv('data/ag_data.csv')\n",
    "ag_df.head()"
   ]
  },
  {
   "cell_type": "code",
   "execution_count": 2,
   "metadata": {},
   "outputs": [
    {
     "data": {
      "text/html": [
       "<div>\n",
       "<style scoped>\n",
       "    .dataframe tbody tr th:only-of-type {\n",
       "        vertical-align: middle;\n",
       "    }\n",
       "\n",
       "    .dataframe tbody tr th {\n",
       "        vertical-align: top;\n",
       "    }\n",
       "\n",
       "    .dataframe thead th {\n",
       "        text-align: right;\n",
       "    }\n",
       "</style>\n",
       "<table border=\"1\" class=\"dataframe\">\n",
       "  <thead>\n",
       "    <tr style=\"text-align: right;\">\n",
       "      <th></th>\n",
       "      <th>Artist</th>\n",
       "      <th>Subgenre</th>\n",
       "    </tr>\n",
       "  </thead>\n",
       "  <tbody>\n",
       "    <tr>\n",
       "      <th>0</th>\n",
       "      <td>Jason Mraz</td>\n",
       "      <td>acoustic pop</td>\n",
       "    </tr>\n",
       "    <tr>\n",
       "      <th>1</th>\n",
       "      <td>Jason Mraz</td>\n",
       "      <td>dance pop</td>\n",
       "    </tr>\n",
       "    <tr>\n",
       "      <th>2</th>\n",
       "      <td>Jason Mraz</td>\n",
       "      <td>neo mellow</td>\n",
       "    </tr>\n",
       "    <tr>\n",
       "      <th>3</th>\n",
       "      <td>Jason Mraz</td>\n",
       "      <td>pop</td>\n",
       "    </tr>\n",
       "    <tr>\n",
       "      <th>4</th>\n",
       "      <td>The Paper Kites</td>\n",
       "      <td>acoustic pop</td>\n",
       "    </tr>\n",
       "  </tbody>\n",
       "</table>\n",
       "</div>"
      ],
      "text/plain": [
       "            Artist      Subgenre\n",
       "0       Jason Mraz  acoustic pop\n",
       "1       Jason Mraz     dance pop\n",
       "2       Jason Mraz    neo mellow\n",
       "3       Jason Mraz           pop\n",
       "4  The Paper Kites  acoustic pop"
      ]
     },
     "execution_count": 2,
     "metadata": {},
     "output_type": "execute_result"
    }
   ],
   "source": [
    "ag_df2 = ag_df[~(ag_df['Subgenre'].str.contains('sleep'))].copy()\n",
    "#ag_df2['Artist'] = artist_enc.fit_transform(ag_df2['Artist'])\n",
    "#ag_df2['Subgenre'] = genre_enc.fit_transform(ag_df2['Subgenre'])\n",
    "\n",
    "ag_df2.head()"
   ]
  },
  {
   "cell_type": "code",
   "execution_count": 3,
   "metadata": {},
   "outputs": [
    {
     "data": {
      "text/plain": [
       "(83983, 2)"
      ]
     },
     "execution_count": 3,
     "metadata": {},
     "output_type": "execute_result"
    }
   ],
   "source": [
    "ag_df.shape"
   ]
  },
  {
   "attachments": {},
   "cell_type": "markdown",
   "metadata": {},
   "source": [
    "Now that our data is preprocessed we can begin with training our model,   \n",
    "we're going to opt for K-Modes since we're dealing with categorical data,  \n",
    "to choose the optimal amount of clusters we'll take a look at the elbow method"
   ]
  },
  {
   "cell_type": "code",
   "execution_count": 14,
   "metadata": {},
   "outputs": [
    {
     "data": {
      "image/png": "[encoded data removed]",
      "text/plain": [
       "<Figure size 640x480 with 1 Axes>"
      ]
     },
     "metadata": {},
     "output_type": "display_data"
    }
   ],
   "source": [
    "from kmodes.kmodes import KModes\n",
    "import matplotlib.pyplot as plt\n",
    "\n",
    "cost = []\n",
    "K = range(1,200,10)\n",
    "for num_clusters in list(K):\n",
    "    kmode = KModes(n_clusters=num_clusters)\n",
    "    kmode.fit_predict(ag_df2)\n",
    "    cost.append(kmode.cost_)\n",
    "    \n",
    "plt.plot(K, cost, 'bx-')\n",
    "plt.xlabel('No. of clusters')\n",
    "plt.ylabel('Cost')\n",
    "plt.title('Elbow Method For Optimal k')\n",
    "plt.show()"
   ]
  },
  {
   "attachments": {},
   "cell_type": "markdown",
   "metadata": {},
   "source": [
    "We'll opt for 150 as our number of clusters"
   ]
  },
  {
   "cell_type": "code",
   "execution_count": 37,
   "metadata": {},
   "outputs": [
    {
     "data": {
      "text/html": [
       "<style>#sk-container-id-4 {color: black;background-color: white;}#sk-container-id-4 pre{padding: 0;}#sk-container-id-4 div.sk-toggleable {background-color: white;}#sk-container-id-4 label.sk-toggleable__label {cursor: pointer;display: block;width: 100%;margin-bottom: 0;padding: 0.3em;box-sizing: border-box;text-align: center;}#sk-container-id-4 label.sk-toggleable__label-arrow:before {content: \"▸\";float: left;margin-right: 0.25em;color: #696969;}#sk-container-id-4 label.sk-toggleable__label-arrow:hover:before {color: black;}#sk-container-id-4 div.sk-estimator:hover label.sk-toggleable__label-arrow:before {color: black;}#sk-container-id-4 div.sk-toggleable__content {max-height: 0;max-width: 0;overflow: hidden;text-align: left;background-color: #f0f8ff;}#sk-container-id-4 div.sk-toggleable__content pre {margin: 0.2em;color: black;border-radius: 0.25em;background-color: #f0f8ff;}#sk-container-id-4 input.sk-toggleable__control:checked~div.sk-toggleable__content {max-height: 200px;max-width: 100%;overflow: auto;}#sk-container-id-4 input.sk-toggleable__control:checked~label.sk-toggleable__label-arrow:before {content: \"▾\";}#sk-container-id-4 div.sk-estimator input.sk-toggleable__control:checked~label.sk-toggleable__label {background-color: #d4ebff;}#sk-container-id-4 div.sk-label input.sk-toggleable__control:checked~label.sk-toggleable__label {background-color: #d4ebff;}#sk-container-id-4 input.sk-hidden--visually {border: 0;clip: rect(1px 1px 1px 1px);clip: rect(1px, 1px, 1px, 1px);height: 1px;margin: -1px;overflow: hidden;padding: 0;position: absolute;width: 1px;}#sk-container-id-4 div.sk-estimator {font-family: monospace;background-color: #f0f8ff;border: 1px dotted black;border-radius: 0.25em;box-sizing: border-box;margin-bottom: 0.5em;}#sk-container-id-4 div.sk-estimator:hover {background-color: #d4ebff;}#sk-container-id-4 div.sk-parallel-item::after {content: \"\";width: 100%;border-bottom: 1px solid gray;flex-grow: 1;}#sk-container-id-4 div.sk-label:hover label.sk-toggleable__label {background-color: #d4ebff;}#sk-container-id-4 div.sk-serial::before {content: \"\";position: absolute;border-left: 1px solid gray;box-sizing: border-box;top: 0;bottom: 0;left: 50%;z-index: 0;}#sk-container-id-4 div.sk-serial {display: flex;flex-direction: column;align-items: center;background-color: white;padding-right: 0.2em;padding-left: 0.2em;position: relative;}#sk-container-id-4 div.sk-item {position: relative;z-index: 1;}#sk-container-id-4 div.sk-parallel {display: flex;align-items: stretch;justify-content: center;background-color: white;position: relative;}#sk-container-id-4 div.sk-item::before, #sk-container-id-4 div.sk-parallel-item::before {content: \"\";position: absolute;border-left: 1px solid gray;box-sizing: border-box;top: 0;bottom: 0;left: 50%;z-index: -1;}#sk-container-id-4 div.sk-parallel-item {display: flex;flex-direction: column;z-index: 1;position: relative;background-color: white;}#sk-container-id-4 div.sk-parallel-item:first-child::after {align-self: flex-end;width: 50%;}#sk-container-id-4 div.sk-parallel-item:last-child::after {align-self: flex-start;width: 50%;}#sk-container-id-4 div.sk-parallel-item:only-child::after {width: 0;}#sk-container-id-4 div.sk-dashed-wrapped {border: 1px dashed gray;margin: 0 0.4em 0.5em 0.4em;box-sizing: border-box;padding-bottom: 0.4em;background-color: white;}#sk-container-id-4 div.sk-label label {font-family: monospace;font-weight: bold;display: inline-block;line-height: 1.2em;}#sk-container-id-4 div.sk-label-container {text-align: center;}#sk-container-id-4 div.sk-container {/* jupyter's `normalize.less` sets `[hidden] { display: none; }` but bootstrap.min.css set `[hidden] { display: none !important; }` so we also need the `!important` here to be able to override the default hidden behavior on the sphinx rendered scikit-learn.org. See: https://github.com/scikit-learn/scikit-learn/issues/21755 */display: inline-block !important;position: relative;}#sk-container-id-4 div.sk-text-repr-fallback {display: none;}</style><div id=\"sk-container-id-4\" class=\"sk-top-container\"><div class=\"sk-text-repr-fallback\"><pre>KModes(n_clusters=150, n_init=1)</pre><b>In a Jupyter environment, please rerun this cell to show the HTML representation or trust the notebook. <br />On GitHub, the HTML representation is unable to render, please try loading this page with nbviewer.org.</b></div><div class=\"sk-container\" hidden><div class=\"sk-item\"><div class=\"sk-estimator sk-toggleable\"><input class=\"sk-toggleable__control sk-hidden--visually\" id=\"sk-estimator-id-4\" type=\"checkbox\" checked><label for=\"sk-estimator-id-4\" class=\"sk-toggleable__label sk-toggleable__label-arrow\">KModes</label><div class=\"sk-toggleable__content\"><pre>KModes(n_clusters=150, n_init=1)</pre></div></div></div></div></div>"
      ],
      "text/plain": [
       "KModes(n_clusters=150, n_init=1)"
      ]
     },
     "execution_count": 37,
     "metadata": {},
     "output_type": "execute_result"
    }
   ],
   "source": [
    "km_model = KModes(n_clusters=150)\n",
    "km_model.fit(ag_df2)"
   ]
  },
  {
   "cell_type": "code",
   "execution_count": 38,
   "metadata": {},
   "outputs": [
    {
     "data": {
      "text/plain": [
       "array([['Boris', 'mandopop'],\n",
       "       ['Allman Brothers Band', 'rock'],\n",
       "       ['Wizkid', 'afrobeats'],\n",
       "       ['Lu Han', 'k-pop'],\n",
       "       ['Cali Y El Dandee', 'urbano latino'],\n",
       "       ['BaianaSystem', 'nova mpb'],\n",
       "       ['Silverstein', 'metalcore'],\n",
       "       ['CID', 'progressive house'],\n",
       "       ['Orquesta Aragón', 'salsa'],\n",
       "       ['Seven Lions', 'electro house'],\n",
       "       ['Showtek', 'euphoric hardstyle'],\n",
       "       ['The Moody Blues', 'singer-songwriter'],\n",
       "       ['Au5', 'dubstep'],\n",
       "       ['Sepultura', 'hard rock'],\n",
       "       ['Calle 13', 'reggaeton'],\n",
       "       ['William So', 'cantopop'],\n",
       "       ['Inimigos Da HP', 'pagode novo'],\n",
       "       ['Tommy Campbell', 'new comedy'],\n",
       "       ['Rage Against The Machine', 'alternative metal'],\n",
       "       ['Chuck Fenda', 'dancehall'],\n",
       "       ['Luciano Pavarotti', 'opera'],\n",
       "       ['Ivete Sangalo', 'sertanejo universitario'],\n",
       "       ['The Byrds', 'classic rock'],\n",
       "       ['Laidback Luke', 'progressive electro house'],\n",
       "       ['In Flames', 'melodic metalcore'],\n",
       "       ['Seth Troxler', 'minimal techno'],\n",
       "       ['Beth Carvalho', 'pagode'],\n",
       "       ['Jimmy Eat World', 'pop punk'],\n",
       "       ['Adekunle Gold', 'nigerian pop'],\n",
       "       ['Idina Menzel', 'show tunes'],\n",
       "       ['Teejay', 'jamaican dancehall'],\n",
       "       ['Nine Inch Nails', 'industrial metal'],\n",
       "       ['青山', 'classic mandopop'],\n",
       "       ['Usher', 'pop'],\n",
       "       ['Guided By Voices', 'modern power pop'],\n",
       "       ['Calcinha Preta', 'forro'],\n",
       "       ['Kodak Black', 'trap latino'],\n",
       "       ['Chico Science', 'samba'],\n",
       "       ['Mano Walter', 'sertanejo pop'],\n",
       "       [\"The Go-Go's\", 'album rock'],\n",
       "       ['EDX', 'edm'],\n",
       "       ['Wolves In The Throne Room', 'black metal'],\n",
       "       ['Hamza', 'french hip hop'],\n",
       "       ['Jürgen Drews', 'partyschlager'],\n",
       "       ['Full Of Hell', 'grindcore'],\n",
       "       ['NERVO', 'pop dance'],\n",
       "       ['Buffalo Springfield', 'soft rock'],\n",
       "       ['ASIAN KUNG-FU GENERATION', 'j-pop'],\n",
       "       ['Deerhunter', 'alternative rock'],\n",
       "       ['Dominguinhos', 'mpb'],\n",
       "       ['Sum 41', 'post-grunge'],\n",
       "       ['Trick James', 'sad lo-fi'],\n",
       "       ['Anthrax', 'nu metal'],\n",
       "       ['The Knife', 'trip hop'],\n",
       "       ['Joe Hisaishi', 'anime'],\n",
       "       ['Willie Nelson', 'country'],\n",
       "       ['Tiësto', 'trance'],\n",
       "       ['Dash Berlin', 'uplifting trance'],\n",
       "       ['Claudia Leitte', 'sertanejo'],\n",
       "       ['Traffic', 'mellow gold'],\n",
       "       ['Paul Revere & The Raiders', 'rock-and-roll'],\n",
       "       ['Alex Chilton', 'underground power pop'],\n",
       "       ['Fatima Al Qadiri', 'deconstructed club'],\n",
       "       ['Flying Lotus', 'electronica'],\n",
       "       ['Xilent', 'gaming dubstep'],\n",
       "       ['Luiz Gonzaga', 'forro tradicional'],\n",
       "       ['Los Montejo', 'mexican rock-and-roll'],\n",
       "       ['Kâzım Koyuncu', 'turkish pop'],\n",
       "       ['D-Sturb', 'rawstyle'],\n",
       "       ['Crossfaith', 'j-rock'],\n",
       "       ['Vader', 'metal'],\n",
       "       ['High Valley', 'contemporary country'],\n",
       "       ['Tritonal', 'progressive trance'],\n",
       "       ['Mary Jane Girls', 'disco'],\n",
       "       ['The Horrors', 'indie rock'],\n",
       "       ['alva noto', 'abstract idm'],\n",
       "       ['The Band', 'country rock'],\n",
       "       ['Dione', 'happy hardcore'],\n",
       "       ['LCD Soundsystem', 'indietronica'],\n",
       "       [\"Lil' Kim\", 'hip hop'],\n",
       "       ['DEVO', 'punk'],\n",
       "       ['Tat Ming Pair', 'classic cantopop'],\n",
       "       ['Pierre Boulez', 'classical performance'],\n",
       "       ['Terri Clark', 'country road'],\n",
       "       ['Dillon Francis', 'brostep'],\n",
       "       ['Wintersun', 'symphonic metal'],\n",
       "       ['Restless', 'neo-rockabilly'],\n",
       "       ['Reshma', 'filmi'],\n",
       "       ['Smallpools', 'pov: indie'],\n",
       "       ['Michael Prophet', 'roots reggae'],\n",
       "       ['Anuel AA', 'reggaeton flow'],\n",
       "       ['Ricky Skaggs', 'bluegrass'],\n",
       "       ['The Kiboomers', \"preschool children's music\"],\n",
       "       ['Sérgio Reis', 'sertanejo tradicional'],\n",
       "       ['Yiruma', 'new age piano'],\n",
       "       ['The Black Keys', 'modern rock'],\n",
       "       ['Peppa Pig', \"children's music\"],\n",
       "       ['T-Pain', 'dance pop'],\n",
       "       ['LTJ Bukem', 'breakbeat'],\n",
       "       ['Ludacris', 'rap'],\n",
       "       ['Sonny & Cher', 'rockabilly'],\n",
       "       ['The Bouncing Souls', 'ska'],\n",
       "       ['Incantation', 'death metal'],\n",
       "       ['Johnny Osbourne', 'reggae'],\n",
       "       ['Boxcutter', 'deep idm'],\n",
       "       ['Harland Williams', 'deep comedy'],\n",
       "       ['Kink', 'techno'],\n",
       "       ['Gil Scott-Heron', 'afropop'],\n",
       "       ['Los Enanitos Verdes', 'latin pop'],\n",
       "       ['Derek & The Dominos', 'folk rock'],\n",
       "       ['Dzeko', 'pop edm'],\n",
       "       ['Sugar Minott', 'old school dancehall'],\n",
       "       ['F.O.O.L', 'dark clubbing'],\n",
       "       ['Lakeside', 'funk'],\n",
       "       ['William So', 'mandopop'],\n",
       "       ['Lu Han', 'mandopop'],\n",
       "       ['Tanya Chua', 'mandopop'],\n",
       "       ['Waa Wei', 'chinese indie'],\n",
       "       ['Sandee Chan', 'chinese indie'],\n",
       "       ['Daniel Chan', 'mandopop'],\n",
       "       ['Z.TAO', 'chinese electropop'],\n",
       "       ['李佳歡', 'malaysian mandopop'],\n",
       "       ['Jay Chou', 'c-pop'],\n",
       "       ['Stefanie Sun', 'mandopop'],\n",
       "       ['David Tao', 'chinese r&b'],\n",
       "       ['No Party For Cao Dong', 'mandopop'],\n",
       "       ['Mavis Hee', 'mandopop'],\n",
       "       ['Zhang Zhen Yue', 'mandopop'],\n",
       "       ['Joanna Wang', 'chinese audiophile'],\n",
       "       ['Deserts Chang', 'mandopop'],\n",
       "       ['Soft Lipa', 'mandopop'],\n",
       "       ['Boon Hui Lu', 'mandopop'],\n",
       "       ['Fire EX.', 'mandopop'],\n",
       "       ['Astro Bunny', 'chinese electropop'],\n",
       "       ['Amazing Show', 'mandopop'],\n",
       "       ['Chih Siou', 'mandopop'],\n",
       "       ['LINION', 'chinese r&b'],\n",
       "       ['WONFU', 'lo star'],\n",
       "       ['Leo王', 'mandopop'],\n",
       "       ['Carolina Chocolate Drops', 'progressive bluegrass'],\n",
       "       ['Dr. John', 'soul'],\n",
       "       ['Eason Chan', 'c-pop'],\n",
       "       ['Penny Tai', 'malaysian mandopop'],\n",
       "       ['Z-Chen', 'chinese r&b'],\n",
       "       ['李心潔', 'malaysian mandopop'],\n",
       "       ['ALYPH', 'malaysian hip hop'],\n",
       "       ['Meeia Foo', 'malaysian mandopop'],\n",
       "       ['JJ Lin', 'mandopop'],\n",
       "       ['Ronghao Li', 'chinese singer-songwriter'],\n",
       "       ['高爾宣 OSN', 'mandopop']], dtype='<U26')"
      ]
     },
     "execution_count": 38,
     "metadata": {},
     "output_type": "execute_result"
    }
   ],
   "source": [
    "km_model.cluster_centroids_"
   ]
  },
  {
   "cell_type": "code",
   "execution_count": 34,
   "metadata": {},
   "outputs": [
    {
     "data": {
      "text/plain": [
       "array([ 3, 99, 14], dtype=uint16)"
      ]
     },
     "execution_count": 34,
     "metadata": {},
     "output_type": "execute_result"
    }
   ],
   "source": []
  }
 ],
 "metadata": {
  "kernelspec": {
   "display_name": "venv",
   "language": "python",
   "name": "python3"
  },
  "language_info": {
   "codemirror_mode": {
    "name": "ipython",
    "version": 3
   },
   "file_extension": ".py",
   "mimetype": "text/x-python",
   "name": "python",
   "nbconvert_exporter": "python",
   "pygments_lexer": "ipython3",
   "version": "3.10.10"
  },
  "orig_nbformat": 4
 },
 "nbformat": 4,
 "nbformat_minor": 2
}
