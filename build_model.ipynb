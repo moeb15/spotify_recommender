{
 "cells": [
  {
   "attachments": {},
   "cell_type": "markdown",
   "metadata": {},
   "source": [
    "### In this notebook we go through the process of training our model"
   ]
  },
  {
   "attachments": {},
   "cell_type": "markdown",
   "metadata": {},
   "source": [
    "We'll start by loading our data and encoding our categorical variables,  \n",
    "since in our EDA process we saw that our data contains many unique values,  \n",
    "it's best to use binary encoding over one-hot encoding\n",
    "\n",
    "In addition to this, after some experimentation I've come to the conclusion  \n",
    "that having the data in it's current form is not beneficial, I'll have to transform  \n",
    "it back to the form of Artist : text, Genres: text[], so we will have to put in  \n",
    "a form known as the transactional format"
   ]
  },
  {
   "cell_type": "code",
   "execution_count": 6,
   "metadata": {},
   "outputs": [
    {
     "data": {
      "text/html": [
       "<div>\n",
       "<style scoped>\n",
       "    .dataframe tbody tr th:only-of-type {\n",
       "        vertical-align: middle;\n",
       "    }\n",
       "\n",
       "    .dataframe tbody tr th {\n",
       "        vertical-align: top;\n",
       "    }\n",
       "\n",
       "    .dataframe thead th {\n",
       "        text-align: right;\n",
       "    }\n",
       "</style>\n",
       "<table border=\"1\" class=\"dataframe\">\n",
       "  <thead>\n",
       "    <tr style=\"text-align: right;\">\n",
       "      <th></th>\n",
       "      <th>Artist</th>\n",
       "      <th>Subgenre</th>\n",
       "    </tr>\n",
       "  </thead>\n",
       "  <tbody>\n",
       "    <tr>\n",
       "      <th>0</th>\n",
       "      <td>Jason Mraz</td>\n",
       "      <td>acoustic pop</td>\n",
       "    </tr>\n",
       "    <tr>\n",
       "      <th>1</th>\n",
       "      <td>Jason Mraz</td>\n",
       "      <td>dance pop</td>\n",
       "    </tr>\n",
       "    <tr>\n",
       "      <th>2</th>\n",
       "      <td>Jason Mraz</td>\n",
       "      <td>neo mellow</td>\n",
       "    </tr>\n",
       "    <tr>\n",
       "      <th>3</th>\n",
       "      <td>Jason Mraz</td>\n",
       "      <td>pop</td>\n",
       "    </tr>\n",
       "    <tr>\n",
       "      <th>4</th>\n",
       "      <td>The Paper Kites</td>\n",
       "      <td>acoustic pop</td>\n",
       "    </tr>\n",
       "  </tbody>\n",
       "</table>\n",
       "</div>"
      ],
      "text/plain": [
       "            Artist      Subgenre\n",
       "0       Jason Mraz  acoustic pop\n",
       "1       Jason Mraz     dance pop\n",
       "2       Jason Mraz    neo mellow\n",
       "3       Jason Mraz           pop\n",
       "4  The Paper Kites  acoustic pop"
      ]
     },
     "execution_count": 6,
     "metadata": {},
     "output_type": "execute_result"
    }
   ],
   "source": [
    "import pandas as pd\n",
    "import numpy as np\n",
    "import seaborn as sns\n",
    "import category_encoders as ce\n",
    "import matplotlib.pyplot as plt\n",
    "\n",
    "ag_df = pd.read_csv('data/ag_data.csv')\n",
    "ag_df.head()"
   ]
  },
  {
   "cell_type": "code",
   "execution_count": 7,
   "metadata": {},
   "outputs": [
    {
     "data": {
      "text/html": [
       "<div>\n",
       "<style scoped>\n",
       "    .dataframe tbody tr th:only-of-type {\n",
       "        vertical-align: middle;\n",
       "    }\n",
       "\n",
       "    .dataframe tbody tr th {\n",
       "        vertical-align: top;\n",
       "    }\n",
       "\n",
       "    .dataframe thead th {\n",
       "        text-align: right;\n",
       "    }\n",
       "</style>\n",
       "<table border=\"1\" class=\"dataframe\">\n",
       "  <thead>\n",
       "    <tr style=\"text-align: right;\">\n",
       "      <th></th>\n",
       "      <th>Artist</th>\n",
       "      <th>Subgenre</th>\n",
       "    </tr>\n",
       "  </thead>\n",
       "  <tbody>\n",
       "    <tr>\n",
       "      <th>0</th>\n",
       "      <td>!!!</td>\n",
       "      <td>[alternative dance, dance rock, dance-punk, el...</td>\n",
       "    </tr>\n",
       "    <tr>\n",
       "      <th>1</th>\n",
       "      <td>!T.O.O.H.!</td>\n",
       "      <td>[technical grindcore]</td>\n",
       "    </tr>\n",
       "    <tr>\n",
       "      <th>2</th>\n",
       "      <td>\"14\"</td>\n",
       "      <td>[swedish rock-and-roll]</td>\n",
       "    </tr>\n",
       "    <tr>\n",
       "      <th>3</th>\n",
       "      <td>\"Cats\" 1981 Original London Cast</td>\n",
       "      <td>[show tunes]</td>\n",
       "    </tr>\n",
       "    <tr>\n",
       "      <th>4</th>\n",
       "      <td>\"DEMONS\"</td>\n",
       "      <td>[action rock, punk 'n' roll, swedish garage rock]</td>\n",
       "    </tr>\n",
       "  </tbody>\n",
       "</table>\n",
       "</div>"
      ],
      "text/plain": [
       "                             Artist  \\\n",
       "0                               !!!   \n",
       "1                        !T.O.O.H.!   \n",
       "2                              \"14\"   \n",
       "3  \"Cats\" 1981 Original London Cast   \n",
       "4                          \"DEMONS\"   \n",
       "\n",
       "                                            Subgenre  \n",
       "0  [alternative dance, dance rock, dance-punk, el...  \n",
       "1                              [technical grindcore]  \n",
       "2                            [swedish rock-and-roll]  \n",
       "3                                       [show tunes]  \n",
       "4  [action rock, punk 'n' roll, swedish garage rock]  "
      ]
     },
     "execution_count": 7,
     "metadata": {},
     "output_type": "execute_result"
    }
   ],
   "source": [
    "ag_df2 = ag_df[~(ag_df['Subgenre'].str.contains('sleep'))].copy()\n",
    "\n",
    "transactional_data = ag_df2.groupby('Artist')['Subgenre'].agg(list).reset_index()\n",
    "transactional_data.head()"
   ]
  },
  {
   "cell_type": "code",
   "execution_count": 8,
   "metadata": {},
   "outputs": [],
   "source": [
    "transactional_data['Subgenre'] = transactional_data['Subgenre'].astype('string') "
   ]
  },
  {
   "cell_type": "code",
   "execution_count": 9,
   "metadata": {},
   "outputs": [
    {
     "name": "stdout",
     "output_type": "stream",
     "text": [
      "<class 'pandas.core.frame.DataFrame'>\n",
      "RangeIndex: 34962 entries, 0 to 34961\n",
      "Data columns (total 2 columns):\n",
      " #   Column    Non-Null Count  Dtype \n",
      "---  ------    --------------  ----- \n",
      " 0   Artist    34962 non-null  object\n",
      " 1   Subgenre  34962 non-null  string\n",
      "dtypes: object(1), string(1)\n",
      "memory usage: 546.4+ KB\n"
     ]
    }
   ],
   "source": [
    "transactional_data.info()"
   ]
  },
  {
   "cell_type": "code",
   "execution_count": 5,
   "metadata": {},
   "outputs": [],
   "source": [
    "transactional_data.to_csv('data/transactional_data.csv',index=False)"
   ]
  },
  {
   "attachments": {},
   "cell_type": "markdown",
   "metadata": {},
   "source": [
    "Let's now use Binary Encoding on the subgenre column and create our training set"
   ]
  },
  {
   "cell_type": "code",
   "execution_count": 10,
   "metadata": {},
   "outputs": [
    {
     "data": {
      "text/plain": [
       "(34962, 14)"
      ]
     },
     "execution_count": 10,
     "metadata": {},
     "output_type": "execute_result"
    }
   ],
   "source": [
    "encoder = ce.BinaryEncoder(cols=['Subgenre'])\n",
    "\n",
    "data_enc = encoder.fit_transform(transactional_data['Subgenre'])\n",
    "\n",
    "data_enc.shape"
   ]
  },
  {
   "attachments": {},
   "cell_type": "markdown",
   "metadata": {},
   "source": [
    "Now that our data is preprocessed we can begin with training our model,   \n",
    "we're going to opt for K-Modes since we're dealing with categorical data,  \n",
    "to choose the optimal amount of clusters we'll take a look at the elbow method"
   ]
  },
  {
   "cell_type": "code",
   "execution_count": 151,
   "metadata": {},
   "outputs": [
    {
     "data": {
      "image/png": "[encoded data removed]",
      "text/plain": [
       "<Figure size 640x480 with 1 Axes>"
      ]
     },
     "metadata": {},
     "output_type": "display_data"
    }
   ],
   "source": [
    "from kmodes.kmodes import KModes\n",
    "\n",
    "cost = []\n",
    "K = range(1,200,10)\n",
    "for num_clusters in list(K):\n",
    "    kmode = KModes(n_clusters=num_clusters)\n",
    "    kmode.fit_predict(data_enc,n_init=5,init='Huang')\n",
    "    cost.append(kmode.cost_)\n",
    "    \n",
    "plt.plot(K, cost, 'bx-')\n",
    "plt.xlabel('No. of clusters')\n",
    "plt.ylabel('Cost')\n",
    "plt.title('Elbow Method For Optimal k')\n",
    "plt.show()"
   ]
  },
  {
   "attachments": {},
   "cell_type": "markdown",
   "metadata": {},
   "source": [
    "We'll opt for 75 as our number of clusters"
   ]
  },
  {
   "cell_type": "code",
   "execution_count": null,
   "metadata": {},
   "outputs": [],
   "source": [
    "from kmodes.kmodes import KModes\n",
    "\n",
    "km = KModes(n_clusters=75, init='Huang', n_init=5)\n",
    "clusters = km.fit_predict(data_enc)\n",
    "\n",
    "for i in range(75):\n",
    "    artists = transactional_data[clusters == i]['Artist'].tolist()\n",
    "    print(f\"Cluster {i+1}: {artists}\")"
   ]
  },
  {
   "attachments": {},
   "cell_type": "markdown",
   "metadata": {},
   "source": [
    "Let's now create a helper function that'll fetch us artists corresponding to genres of interest,  \n",
    "we'll save this as a utility function"
   ]
  },
  {
   "cell_type": "code",
   "execution_count": 135,
   "metadata": {},
   "outputs": [],
   "source": [
    "def recommend_artists(genre_lst,model,encoder,data,rec_count):\n",
    "    \n",
    "    genre_df = pd.DataFrame({'Subgenre':[genre_lst]})\n",
    "    genre_df['Subgenre'] = genre_df['Subgenre'].astype('string')\n",
    "    genre_enc = encoder.transform(genre_df['Subgenre'])\n",
    "\n",
    "    user_cluster = model.predict(genre_enc)\n",
    "    user_recommendations = data[model.labels_ == user_cluster]['Artist'].to_numpy()\n",
    "    idx = np.random.randint(0,len(user_recommendations),rec_count)\n",
    "    return user_recommendations[idx]"
   ]
  },
  {
   "cell_type": "code",
   "execution_count": 149,
   "metadata": {},
   "outputs": [
    {
     "name": "stdout",
     "output_type": "stream",
     "text": [
      "['Marburg' 'Carvis Turney' 'Taarka' \"'Til Tuesday\" 'Emrah Turken'\n",
      " '10-FEET' 'Rose Royce' 'Angel Olsen' 'The Diamonds' 'Igneous Flame']\n"
     ]
    }
   ],
   "source": [
    "print(recommend_artists(['EDM','Trance'],km,encoder,transactional_data,10))"
   ]
  },
  {
   "attachments": {},
   "cell_type": "markdown",
   "metadata": {},
   "source": [
    "# Project Update\n",
    "\n",
    "After playing around with the project and interpretting the results, I've come to the conclusion that  \n",
    "in order for more appropriate recommendations to be given, there would have to be an increase in the amount \n",
    "of clusters in the model  \n",
    "\n",
    "To determine the optimal amount of clusters I'll take a look at the silhoutte scores "
   ]
  },
  {
   "cell_type": "code",
   "execution_count": null,
   "metadata": {},
   "outputs": [],
   "source": [
    "from kmodes.kmodes import KModes\n",
    "from sklearn.metrics import silhouette_score\n",
    "\n",
    "scores = []\n",
    "\n",
    "for k in range(50,750,50):\n",
    "    km = KModes(n_clusters=k, init='Huang', n_init=5)\n",
    "    km.fit_predict(data_enc)\n",
    "    scores.append(silhouette_score(data_enc,km.labels_))"
   ]
  },
  {
   "cell_type": "code",
   "execution_count": 19,
   "metadata": {},
   "outputs": [
    {
     "data": {
      "image/png": "[encoded data removed]",
      "text/plain": [
       "<Figure size 2000x700 with 1 Axes>"
      ]
     },
     "metadata": {},
     "output_type": "display_data"
    }
   ],
   "source": [
    "plt.figure(figsize=(20,7))\n",
    "plt.plot(range(50,750,50),scores,'bo-')\n",
    "plt.xlabel('n-clusters')\n",
    "plt.ylabel('Silhoutte Score')\n",
    "plt.show()"
   ]
  },
  {
   "attachments": {},
   "cell_type": "markdown",
   "metadata": {},
   "source": [
    "The score is continuing to rise so lets keep inreasing the number of clusters and analyze  \n",
    "where the silhoutte score peaks"
   ]
  },
  {
   "cell_type": "code",
   "execution_count": 20,
   "metadata": {},
   "outputs": [
    {
     "data": {
      "text/plain": [
       "array([342, 619, 414, ...,  30, 406, 575], dtype=uint16)"
      ]
     },
     "execution_count": 20,
     "metadata": {},
     "output_type": "execute_result"
    }
   ],
   "source": [
    "km = KModes(n_clusters=700, init='Huang', n_init=5)\n",
    "km.fit_predict(data_enc)"
   ]
  },
  {
   "attachments": {},
   "cell_type": "markdown",
   "metadata": {},
   "source": [
    "Let's save our model and encoder"
   ]
  },
  {
   "cell_type": "code",
   "execution_count": 21,
   "metadata": {},
   "outputs": [
    {
     "data": {
      "text/plain": [
       "['models/model.pkl']"
      ]
     },
     "execution_count": 21,
     "metadata": {},
     "output_type": "execute_result"
    }
   ],
   "source": [
    "import joblib\n",
    "\n",
    "joblib.dump(value = [km,encoder], filename='models/model.pkl')"
   ]
  }
 ],
 "metadata": {
  "kernelspec": {
   "display_name": "venv",
   "language": "python",
   "name": "python3"
  },
  "language_info": {
   "codemirror_mode": {
    "name": "ipython",
    "version": 3
   },
   "file_extension": ".py",
   "mimetype": "text/x-python",
   "name": "python",
   "nbconvert_exporter": "python",
   "pygments_lexer": "ipython3",
   "version": "3.10.10"
  },
  "orig_nbformat": 4
 },
 "nbformat": 4,
 "nbformat_minor": 2
}
